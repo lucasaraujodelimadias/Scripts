{
 "cells": [
  {
   "cell_type": "code",
   "execution_count": 18,
   "id": "818381b7-1d0b-49ef-88d8-df44d569b0e7",
   "metadata": {
    "scrolled": true
   },
   "outputs": [],
   "source": [
    "import numpy as np\n",
    "import re\n",
    "\n",
    "def read_guess_file(filename):\n",
    "    # Read the file and parse the matrix size and entries\n",
    "    with open(filename, 'r') as file:\n",
    "        lines = file.readlines()\n",
    "        \n",
    "        # First line contains the matrix size\n",
    "        size = int(lines[0].split()[0])\n",
    "        \n",
    "        # Use regular expression to match floating-point numbers\n",
    "        data = []\n",
    "        for line in lines[1:]:\n",
    "            # Find all float numbers in the line\n",
    "            numbers = re.findall(r\"[-+]?\\d*\\.\\d+|\\d+\", line)\n",
    "            data.extend(map(float, numbers))\n",
    "    \n",
    "    # Reshape data into a size x size matrix\n",
    "    matrix = np.array(data).reshape((size, size), order='F')\n",
    "    return matrix\n",
    "\n",
    "def swap_columns(matrix, changes):\n",
    "    # Swap the specified columns in the matrix\n",
    "    for col1, col2 in changes:\n",
    "        matrix[:, [col1-1, col2-1]] = matrix[:, [col2-1, col1-1]]\n",
    "    return matrix\n",
    "\n",
    "def write_guess_file(filename, matrix):\n",
    "    size = matrix.shape[0]\n",
    "    with open(filename, 'w') as file:\n",
    "        # Write the matrix size header with exact spacing\n",
    "        file.write(f\"  {size:>3}  {size}\\n\")\n",
    "        \n",
    "        # Flatten the matrix in column-major order\n",
    "        flat_data = matrix.T.flatten()\n",
    "        \n",
    "        # Write the data in lines of 8 entries, with a leading space at the beginning of each line\n",
    "        for i in range(0, len(flat_data), 8):\n",
    "            line = \"\".join(f\"{num:9.5f}\" for num in flat_data[i:i+8])\n",
    "            file.write(line + \"\\n\")\n",
    "\n",
    "\n",
    "# Define the changes (column swaps) you want to make\n",
    "changes = [(8, 16), (9, 17)]\n",
    "\n",
    "# Read, modify, and write the matrix\n",
    "matrix = read_guess_file(\"hnco.guess\")\n",
    "matrix = swap_columns(matrix, changes)\n",
    "write_guess_file(\"hnco_modified.guess\", matrix)\n"
   ]
  },
  {
   "cell_type": "code",
   "execution_count": null,
   "id": "581d5296-e78a-42d7-9a6f-5ec4fe9f0e69",
   "metadata": {},
   "outputs": [],
   "source": []
  }
 ],
 "metadata": {
  "kernelspec": {
   "display_name": "Python 3 (ipykernel)",
   "language": "python",
   "name": "python3"
  },
  "language_info": {
   "codemirror_mode": {
    "name": "ipython",
    "version": 3
   },
   "file_extension": ".py",
   "mimetype": "text/x-python",
   "name": "python",
   "nbconvert_exporter": "python",
   "pygments_lexer": "ipython3",
   "version": "3.11.5"
  }
 },
 "nbformat": 4,
 "nbformat_minor": 5
}
